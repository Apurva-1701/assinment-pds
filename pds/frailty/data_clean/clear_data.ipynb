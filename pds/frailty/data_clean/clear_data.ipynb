{
  "nbformat": 4,
  "nbformat_minor": 0,
  "metadata": {
    "colab": {
      "provenance": []
    },
    "kernelspec": {
      "name": "python3",
      "display_name": "Python 3"
    },
    "language_info": {
      "name": "python"
    }
  },
  "cells": [
    {
      "cell_type": "code",
      "execution_count": 2,
      "metadata": {
        "id": "RobHX2QCwI3a"
      },
      "outputs": [],
      "source": [
        "import pandas as pd\n",
        "\n",
        "# Step 1: Load the dataset from a CSV file\n",
        "df = pd.read_csv('/content/frailty_data.csv')  # Replace 'path_to_your_file.csv' with the actual file path\n",
        "\n"
      ]
    },
    {
      "cell_type": "code",
      "source": [
        "# Step 2: Check for missing values\n",
        "missing_values = df.isnull().sum()\n",
        "print(\"Missing values in each column:\\n\", missing_values)\n",
        "\n"
      ],
      "metadata": {
        "colab": {
          "base_uri": "https://localhost:8080/"
        },
        "id": "Fx_FYYXqwX7l",
        "outputId": "ee8ed68c-6e86-43f7-9f80-14e819716f62"
      },
      "execution_count": 3,
      "outputs": [
        {
          "output_type": "stream",
          "name": "stdout",
          "text": [
            "Missing values in each column:\n",
            " Height           0\n",
            "Weight           0\n",
            "Age              0\n",
            "Grip_strength    0\n",
            "Frailty          0\n",
            "dtype: int64\n"
          ]
        }
      ]
    },
    {
      "cell_type": "code",
      "source": [
        "# Step 3: Convert categorical \"Frailty\" column to numerical values (0 for 'N', 1 for 'Y')\n",
        "df['Frailty'] = df['Frailty'].apply(lambda x: 1 if x == 'Y' else 0)\n",
        "\n"
      ],
      "metadata": {
        "id": "yvU1db-wwg96"
      },
      "execution_count": 4,
      "outputs": []
    },
    {
      "cell_type": "code",
      "source": [
        "#Step 4: Convert 'Age' and 'Grip_strength' to integers if needed (they are already numeric here)\n",
        "df['Age'] = df['Age'].astype(int)\n",
        "df['Grip_strength'] = df['Grip_strength'].astype(float)\n"
      ],
      "metadata": {
        "id": "xOjSh2crwi_-"
      },
      "execution_count": 6,
      "outputs": []
    },
    {
      "cell_type": "code",
      "source": [
        "\n",
        "# Display the cleaned dataset\n",
        "print(\"\\nCleaned Dataset:\\n\", df)\n",
        "\n",
        "# Saving cleaned data\n",
        "df.to_csv('cleaned_frailty_data.csv', index=False)\n",
        "print(\"\\nData saved as cleaned_frailty_data.csv\")"
      ],
      "metadata": {
        "colab": {
          "base_uri": "https://localhost:8080/"
        },
        "id": "3IN9gbEbwk-M",
        "outputId": "891744ed-64e7-4b69-d12c-b9d0b3ba5d21"
      },
      "execution_count": 7,
      "outputs": [
        {
          "output_type": "stream",
          "name": "stdout",
          "text": [
            "\n",
            "Cleaned Dataset:\n",
            "    Height  Weight  Age  Grip_strength  Frailty\n",
            "0    65.8     112   30           30.0        0\n",
            "1    71.5     136   19           31.0        0\n",
            "2    69.4     153   45           29.0        0\n",
            "3    68.2     142   22           28.0        1\n",
            "4    67.8     144   29           24.0        1\n",
            "5    68.7     123   50           26.0        0\n",
            "6    69.8     141   51           22.0        1\n",
            "7    70.1     136   23           20.0        1\n",
            "8    67.9     112   17           19.0        0\n",
            "9    66.8     120   39           31.0        0\n",
            "\n",
            "Data saved as cleaned_frailty_data.csv\n"
          ]
        }
      ]
    },
    {
      "cell_type": "code",
      "source": [],
      "metadata": {
        "id": "ZFljNd9Bwo_q"
      },
      "execution_count": null,
      "outputs": []
    }
  ]
}