{
  "nbformat": 4,
  "nbformat_minor": 0,
  "metadata": {
    "colab": {
      "provenance": []
    },
    "kernelspec": {
      "name": "python3",
      "display_name": "Python 3"
    },
    "language_info": {
      "name": "python"
    }
  },
  "cells": [
    {
      "cell_type": "code",
      "execution_count": 1,
      "metadata": {
        "id": "SBidtSump0sO"
      },
      "outputs": [],
      "source": [
        "import pandas as pd\n",
        "\n"
      ]
    },
    {
      "cell_type": "code",
      "source": [
        "\n",
        "frailty_data = {\n",
        "    'Participant_Height': [65.8, 71.5, 69.4, 68.2, 67.8, 68.7, 69.8, 70.1, 67.9, 66.8],\n",
        "    'Participant_Weight': [112, 136, 153, 142, 144, 123, 141, 136, 112, 120],\n",
        "    'Participant_Age': [30, 19, 45, 22, 29, 50, 51, 23, 17, 39],\n",
        "    'Grip_Strength_kg': [30, 31, 29, 28, 24, 26, 22, 20, 19, 31],\n",
        "    'Frailty_Status': ['N', 'N', 'N', 'Y', 'Y', 'N', 'Y', 'Y', 'N', 'N']\n",
        "}\n",
        "\n",
        "\n"
      ],
      "metadata": {
        "id": "9HOvcyMZrMfU"
      },
      "execution_count": 2,
      "outputs": []
    },
    {
      "cell_type": "code",
      "source": [
        "\n",
        "frailty_df = pd.DataFrame(frailty_data)\n",
        "\n",
        "\n",
        "frailty_df.to_csv('frailty_data.csv', index=False)\n",
        "\n",
        "print(\"Data saved as frailty_data.csv\")"
      ],
      "metadata": {
        "colab": {
          "base_uri": "https://localhost:8080/"
        },
        "id": "g47OfgGirR3t",
        "outputId": "effa5b09-b18a-400a-8232-6b2342fa5fae"
      },
      "execution_count": 3,
      "outputs": [
        {
          "output_type": "stream",
          "name": "stdout",
          "text": [
            "Data saved as frailty_data.csv\n"
          ]
        }
      ]
    },
    {
      "cell_type": "code",
      "source": [],
      "metadata": {
        "id": "i3b0XCYgrTk0"
      },
      "execution_count": null,
      "outputs": []
    }
  ]
}