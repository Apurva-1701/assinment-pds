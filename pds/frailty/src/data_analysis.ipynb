{
  "nbformat": 4,
  "nbformat_minor": 0,
  "metadata": {
    "colab": {
      "provenance": []
    },
    "kernelspec": {
      "name": "python3",
      "display_name": "Python 3"
    },
    "language_info": {
      "name": "python"
    }
  },
  "cells": [
    {
      "cell_type": "code",
      "source": [
        "import os\n",
        "import pandas as pd\n",
        "from scipy import stats\n",
        "\n"
      ],
      "metadata": {
        "id": "EEHC5Wde0AaQ"
      },
      "execution_count": 70,
      "outputs": []
    },
    {
      "cell_type": "code",
      "source": [
        "# Step 1: Ensure the directory exists\n",
        "results_dir = '/content/frailty/results/'\n",
        "os.makedirs(results_dir, exist_ok=True)  # Create the directory if it doesn't exist\n",
        "\n"
      ],
      "metadata": {
        "id": "El6KH6PO0B8F"
      },
      "execution_count": 71,
      "outputs": []
    },
    {
      "cell_type": "code",
      "source": [
        "# Step 2: Load the cleaned dataset (Assuming 'data' is already loaded)\n",
        "# Example dataset loading, replace with your actual dataset loading if needed\n",
        "data = pd.read_csv('/content/cleaned_frailty_data.csv')\n",
        "\n"
      ],
      "metadata": {
        "id": "mKROXJSK0D41"
      },
      "execution_count": 72,
      "outputs": []
    },
    {
      "cell_type": "code",
      "source": [
        "#Step 3: Perform the t-test between 'Weight' and 'Frailty'\n",
        "t2_test = stats.ttest_ind(data['Weight'], data['Frailty'])\n",
        "\n",
        "# Step 4: Extract the components of the t-test result\n",
        "t_statistic = t2_test.statistic\n",
        "p_value = t2_test.pvalue\n",
        "degrees_freedom = t2_test.df\n",
        "\n",
        "# Print the t-test results to the console\n",
        "print(f\"T-test Results:\")\n",
        "print(f\"T-statistic: {t_statistic:.4f}\")\n",
        "print(f\"P-value: {p_value:.4e}\")\n",
        "print(f\"Degrees of Freedom: {degrees_freedom:.1f}\")\n",
        "\n",
        "# Step 5: Store t-test results in a dictionary\n",
        "t_test_results = {\n",
        "    'T-statistic': [t_statistic],\n",
        "    'P-value': [p_value],\n",
        "    'Degrees of Freedom': [degrees_freedom]\n",
        "}"
      ],
      "metadata": {
        "colab": {
          "base_uri": "https://localhost:8080/"
        },
        "id": "RkLc92bq0Hak",
        "outputId": "167f999e-7db8-4325-efc3-3955ccaf87ca"
      },
      "execution_count": 73,
      "outputs": [
        {
          "output_type": "stream",
          "name": "stdout",
          "text": [
            "T-test Results:\n",
            "T-statistic: 29.1998\n",
            "P-value: 1.2921e-16\n",
            "Degrees of Freedom: 18.0\n"
          ]
        }
      ]
    },
    {
      "cell_type": "markdown",
      "source": [],
      "metadata": {
        "id": "N6ITHiwX0QJJ"
      }
    },
    {
      "cell_type": "code",
      "source": [
        "#Step 6: Convert the dictionary to a pandas DataFrame\n",
        "df_results = pd.DataFrame(t_test_results)\n",
        "\n"
      ],
      "metadata": {
        "id": "KkUt7NY90Uhs"
      },
      "execution_count": 74,
      "outputs": []
    },
    {
      "cell_type": "code",
      "source": [
        "# Step 3: Descriptive Statistics (Grouped by 'Frailty')\n",
        "grouped_stats = data.groupby('Frailty').agg({\n",
        "    'Weight': ['mean', 'std'],\n",
        "    'Grip_strength': ['mean', 'std']\n",
        "}).reset_index()\n",
        "\n",
        "print(\"Grouped Descriptive Statistics (by Frailty):\\n\", grouped_stats)\n",
        "\n",
        "\n"
      ],
      "metadata": {
        "colab": {
          "base_uri": "https://localhost:8080/"
        },
        "id": "13nttqRf0zen",
        "outputId": "80022036-5b8c-4fec-8611-9b48c6639eeb"
      },
      "execution_count": 75,
      "outputs": [
        {
          "output_type": "stream",
          "name": "stdout",
          "text": [
            "Grouped Descriptive Statistics (by Frailty):\n",
            "   Frailty  Weight            Grip_strength          \n",
            "             mean        std          mean       std\n",
            "0       0  126.00  15.912259     27.666667  4.633213\n",
            "1       1  140.75   3.403430     23.500000  3.415650\n"
          ]
        }
      ]
    },
    {
      "cell_type": "code",
      "source": [
        "# Step 4: Perform a t-Test between 'Weight' and 'Frailty'\n",
        "t2_test = stats.ttest_ind(data['Weight'], data['Frailty'])\n",
        "\n",
        "# Extract the components of the t-test result\n",
        "t_statistic = t2_test.statistic\n",
        "p_value = t2_test.pvalue\n",
        "degrees_freedom = t2_test.df\n",
        "\n",
        "# Print the t-test results to the console\n",
        "print(f\"T-test Results:\")\n",
        "print(f\"T-statistic: {t_statistic:.4f}\")\n",
        "print(f\"P-value: {p_value:.4e}\")\n",
        "print(f\"Degrees of Freedom: {degrees_freedom:.1f}\")\n",
        "\n"
      ],
      "metadata": {
        "colab": {
          "base_uri": "https://localhost:8080/"
        },
        "id": "pfLsobKX1zUy",
        "outputId": "4626d68d-1610-428d-df3a-3279d71dd602"
      },
      "execution_count": 76,
      "outputs": [
        {
          "output_type": "stream",
          "name": "stdout",
          "text": [
            "T-test Results:\n",
            "T-statistic: 29.1998\n",
            "P-value: 1.2921e-16\n",
            "Degrees of Freedom: 18.0\n"
          ]
        }
      ]
    },
    {
      "cell_type": "code",
      "source": [
        "# Step 6: Visualization: Boxplot for Weight vs Frailty\n",
        "plt.figure(figsize=(8,6))\n",
        "sns.boxplot(x=data['Frailty'], y=data['Weight'])\n",
        "plt.title('Box Plot: Weight vs Frailty')\n",
        "plt.xlabel('Frailty (0: No, 1: Yes)')\n",
        "plt.ylabel('Weight')\n",
        "plt.savefig(os.path.join('/content/frailty/df_results', 'boxplot_weight_vs_frailty.png'))\n",
        "plt.close()\n",
        "print(\"Boxplot for Weight vs Frailty saved.\")\n",
        "\n"
      ],
      "metadata": {
        "colab": {
          "base_uri": "https://localhost:8080/"
        },
        "id": "0hrVdQ_J13FK",
        "outputId": "71f396ee-dc4a-449b-cdb1-06d07954dfef"
      },
      "execution_count": 77,
      "outputs": [
        {
          "output_type": "stream",
          "name": "stdout",
          "text": [
            "Boxplot for Weight vs Frailty saved.\n"
          ]
        }
      ]
    },
    {
      "cell_type": "code",
      "source": [
        "# Step 7: Visualization: Boxplot for Grip_strength vs Frailty\n",
        "plt.figure(figsize=(8,6))\n",
        "sns.boxplot(x=data['Frailty'], y=data['Grip_strength'])\n",
        "plt.title('Box Plot: Grip Strength vs Frailty')\n",
        "plt.xlabel('Frailty (0: No, 1: Yes)')\n",
        "plt.ylabel('Grip Strength')\n",
        "plt.savefig(os.path.join('/content/frailty/df_results', 'boxplot_gripstrength_vs_frailty.png'))\n",
        "plt.close()\n",
        "print(\"Boxplot for Grip Strength vs Frailty saved.\")\n",
        "\n"
      ],
      "metadata": {
        "colab": {
          "base_uri": "https://localhost:8080/"
        },
        "id": "iaLK1Qlt16DP",
        "outputId": "27c120bd-ef9c-4d3a-97ea-f7d2e20eac36"
      },
      "execution_count": 78,
      "outputs": [
        {
          "output_type": "stream",
          "name": "stdout",
          "text": [
            "Boxplot for Grip Strength vs Frailty saved.\n"
          ]
        }
      ]
    },
    {
      "cell_type": "code",
      "source": [
        "# Step 8: Visualization: Histogram for Weight\n",
        "plt.figure(figsize=(8,6))\n",
        "sns.histplot(data['Weight'], bins=10, kde=True)\n",
        "plt.title('Histogram: Weight Distribution')\n",
        "plt.xlabel('Weight')\n",
        "plt.ylabel('Frequency')\n",
        "plt.savefig(os.path.join('/content/frailty/df_results', 'histogram_weight.png'))\n",
        "plt.close()\n",
        "print(\"Histogram for Weight saved.\")\n",
        "\n"
      ],
      "metadata": {
        "colab": {
          "base_uri": "https://localhost:8080/"
        },
        "id": "Qt1Kz3hx2RNL",
        "outputId": "1ebfb09a-4901-4a86-806c-e9df8be8ce31"
      },
      "execution_count": 79,
      "outputs": [
        {
          "output_type": "stream",
          "name": "stdout",
          "text": [
            "Histogram for Weight saved.\n"
          ]
        }
      ]
    },
    {
      "cell_type": "code",
      "source": [
        "#Step 9: Visualization: Histogram for Grip Strength\n",
        "plt.figure(figsize=(8,6))\n",
        "sns.histplot(data['Grip_strength'], bins=10, kde=True)\n",
        "plt.title('Histogram: Grip Strength Distribution')\n",
        "plt.xlabel('Grip Strength')\n",
        "plt.ylabel('Frequency')\n",
        "plt.savefig(os.path.join('/content/frailty/df_results', 'histogram_gripstrength.png'))\n",
        "plt.close()\n",
        "print(\"Histogram for Grip Strength saved.\")"
      ],
      "metadata": {
        "colab": {
          "base_uri": "https://localhost:8080/"
        },
        "id": "dvi5Pwk52U44",
        "outputId": "024235a3-8358-4e12-941f-10e3160758f6"
      },
      "execution_count": 80,
      "outputs": [
        {
          "output_type": "stream",
          "name": "stdout",
          "text": [
            "Histogram for Grip Strength saved.\n"
          ]
        }
      ]
    }
  ]
}